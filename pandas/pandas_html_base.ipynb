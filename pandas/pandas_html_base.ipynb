{
 "cells": [
  {
   "cell_type": "markdown",
   "metadata": {},
   "source": "# Python - Pandas with Series and DataFrame"
  },
  {
   "cell_type": "markdown",
   "metadata": {},
   "source": [
    "- What is pandas?\n",
    "\n",
    "Pandas is a powerful library in Python that is used for data manipulation and analysis. It provides tools for working with data in a tabular form, similar to Excel spreadsheets, SQL tables, or data frames in R.\n",
    "\n",
    "To load the pandas package and start working with it, import the package. The community agreed alias for pandas is pd, so loading pandas as pd is assumed standard practice for all of the pandas documentation. \n",
    "\n",
    "Install pandas from Jupyter Notebook:\n",
    "First, you need to install the pandas package if you haven't already. You can do this using pip:"
   ]
  },
  {
   "metadata": {},
   "cell_type": "code",
   "outputs": [],
   "execution_count": null,
   "source": [
    "%pip install pandas\n",
    "# or\n",
    "!pip install pandas"
   ]
  },
  {
   "metadata": {},
   "cell_type": "markdown",
   "source": [
    "- Import pandas:\n",
    "\n",
    "- After installing pandas, you need to import it in your Python script. The community has agreed to use the alias pd for pandas, so we import it as follows:"
   ]
  },
  {
   "cell_type": "code",
   "metadata": {
    "id": "um8PCGktWEFG",
    "ExecuteTime": {
     "end_time": "2024-07-27T16:30:16.769292Z",
     "start_time": "2024-07-27T16:30:16.142035Z"
    }
   },
   "source": "import pandas as pd",
   "outputs": [],
   "execution_count": 1
  },
  {
   "cell_type": "markdown",
   "metadata": {
    "id": "9mywjwdgWEFI"
   },
   "source": [
    "Create a `DataFrame`:\n",
    "A `DataFrame` is a key data structure in pandas. It is like a table in a database or an Excel spreadsheet. Here is an example of how to create a `DataFrame`:"
   ]
  },
  {
   "metadata": {},
   "cell_type": "markdown",
   "source": [
    "- Basic data structures in pandas\n",
    "\n",
    "- Pandas provides two types of classes Series and DataFrame for handling data:\n",
    "\n",
    "- `Series`: a `one-dimensional` labeled array holding data of any type such as integers, strings, Python objects etc.\n"
   ]
  },
  {
   "metadata": {},
   "cell_type": "markdown",
   "source": "![Pandas Series](https://gitlab.com/codedeploycloud/data_science/-/raw/main/images/pandas_series.png)"
  },
  {
   "metadata": {},
   "cell_type": "markdown",
   "source": "- `DataFrame`: a `two-dimensional` data structure that holds data like a two-dimension array or a table with rows and columns."
  },
  {
   "metadata": {},
   "cell_type": "markdown",
   "source": "![Pandas DataFrame](https://gitlab.com/codedeploycloud/data_science/-/raw/main/images/pandas_dataframe.png)"
  },
  {
   "metadata": {},
   "cell_type": "markdown",
   "source": "![Pandas DataFrame Series](https://gitlab.com/codedeploycloud/data_science/-/raw/main/images/pandas_series_dataframe.png)"
  },
  {
   "metadata": {},
   "cell_type": "markdown",
   "source": [
    "Create a DataFrame:\n",
    "A DataFrame is a key data structure in pandas. It is like a table in a database or an Excel spreadsheet. Here is an example of how to create a DataFrame:"
   ]
  },
  {
   "metadata": {
    "ExecuteTime": {
     "end_time": "2024-07-27T18:27:57.202001Z",
     "start_time": "2024-07-27T18:27:57.190264Z"
    }
   },
   "cell_type": "code",
   "source": [
    "data = {\n",
    "    'Name': ['Alice', 'Bob', 'Charlie'],\n",
    "    'Age': [25, 30, 35],\n",
    "    'City': ['New York', 'Los Angeles', 'Chicago'],\n",
    "    'Product': [44, 25, 56]\n",
    "}\n",
    "df = pd.DataFrame(data)\n",
    "df"
   ],
   "outputs": [
    {
     "data": {
      "text/plain": [
       "      Name  Age         City  Product\n",
       "0    Alice   25     New York       44\n",
       "1      Bob   30  Los Angeles       25\n",
       "2  Charlie   35      Chicago       56"
      ],
      "text/html": [
       "<div>\n",
       "<style scoped>\n",
       "    .dataframe tbody tr th:only-of-type {\n",
       "        vertical-align: middle;\n",
       "    }\n",
       "\n",
       "    .dataframe tbody tr th {\n",
       "        vertical-align: top;\n",
       "    }\n",
       "\n",
       "    .dataframe thead th {\n",
       "        text-align: right;\n",
       "    }\n",
       "</style>\n",
       "<table border=\"1\" class=\"dataframe\">\n",
       "  <thead>\n",
       "    <tr style=\"text-align: right;\">\n",
       "      <th></th>\n",
       "      <th>Name</th>\n",
       "      <th>Age</th>\n",
       "      <th>City</th>\n",
       "      <th>Product</th>\n",
       "    </tr>\n",
       "  </thead>\n",
       "  <tbody>\n",
       "    <tr>\n",
       "      <th>0</th>\n",
       "      <td>Alice</td>\n",
       "      <td>25</td>\n",
       "      <td>New York</td>\n",
       "      <td>44</td>\n",
       "    </tr>\n",
       "    <tr>\n",
       "      <th>1</th>\n",
       "      <td>Bob</td>\n",
       "      <td>30</td>\n",
       "      <td>Los Angeles</td>\n",
       "      <td>25</td>\n",
       "    </tr>\n",
       "    <tr>\n",
       "      <th>2</th>\n",
       "      <td>Charlie</td>\n",
       "      <td>35</td>\n",
       "      <td>Chicago</td>\n",
       "      <td>56</td>\n",
       "    </tr>\n",
       "  </tbody>\n",
       "</table>\n",
       "</div>"
      ]
     },
     "execution_count": 8,
     "metadata": {},
     "output_type": "execute_result"
    }
   ],
   "execution_count": 8
  },
  {
   "metadata": {},
   "cell_type": "markdown",
   "source": "You can working with the data in the column 'City'. When selecting a single column of a pandas DataFrame, the result is a pandas Series. To select the column, use the column label in between square brackets df['City'] or df.City."
  },
  {
   "metadata": {
    "ExecuteTime": {
     "end_time": "2024-07-27T16:33:02.755250Z",
     "start_time": "2024-07-27T16:33:02.748625Z"
    }
   },
   "cell_type": "code",
   "source": "df['City']",
   "outputs": [
    {
     "data": {
      "text/plain": [
       "0       New York\n",
       "1    Los Angeles\n",
       "2        Chicago\n",
       "Name: City, dtype: object"
      ]
     },
     "execution_count": 3,
     "metadata": {},
     "output_type": "execute_result"
    }
   ],
   "execution_count": 3
  },
  {
   "metadata": {
    "ExecuteTime": {
     "end_time": "2024-07-27T16:33:23.334042Z",
     "start_time": "2024-07-27T16:33:23.327527Z"
    }
   },
   "cell_type": "code",
   "source": "df.City",
   "outputs": [
    {
     "data": {
      "text/plain": [
       "0       New York\n",
       "1    Los Angeles\n",
       "2        Chicago\n",
       "Name: City, dtype: object"
      ]
     },
     "execution_count": 4,
     "metadata": {},
     "output_type": "execute_result"
    }
   ],
   "execution_count": 4
  },
  {
   "metadata": {},
   "cell_type": "markdown",
   "source": "You can create a `Series` from scratch as well. A pandas `Series` has no column labels, as it is just a single column of a `DataFrame`. A `Series` does have row labels."
  },
  {
   "metadata": {
    "ExecuteTime": {
     "end_time": "2024-07-27T18:23:51.520992Z",
     "start_time": "2024-07-27T18:23:51.508217Z"
    }
   },
   "cell_type": "code",
   "source": [
    "data_series = pd.Series([220, 350, 580, 310, 610, 250], name=\"Total\", dtype=int)\n",
    "data_series"
   ],
   "outputs": [
    {
     "data": {
      "text/plain": [
       "0    220\n",
       "1    350\n",
       "2    580\n",
       "3    310\n",
       "4    610\n",
       "5    250\n",
       "Name: Total, dtype: int64"
      ]
     },
     "execution_count": 6,
     "metadata": {},
     "output_type": "execute_result"
    }
   ],
   "execution_count": 6
  },
  {
   "metadata": {},
   "cell_type": "markdown",
   "source": [
    "Example, you want to know the maximum `Total` of the product.\n",
    "We can do this on the `DataSeries` or `DataFrame` by selecting the `Total` column and applying `max()`:"
   ]
  },
  {
   "metadata": {
    "ExecuteTime": {
     "end_time": "2024-07-27T18:31:37.694108Z",
     "start_time": "2024-07-27T18:31:37.687470Z"
    }
   },
   "cell_type": "code",
   "source": [
    "# Data Frame\n",
    "df[\"Product\"].max()"
   ],
   "outputs": [
    {
     "data": {
      "text/plain": [
       "56"
      ]
     },
     "execution_count": 9,
     "metadata": {},
     "output_type": "execute_result"
    }
   ],
   "execution_count": 9
  },
  {
   "metadata": {
    "ExecuteTime": {
     "end_time": "2024-07-27T18:32:11.344963Z",
     "start_time": "2024-07-27T18:32:11.339658Z"
    }
   },
   "cell_type": "code",
   "source": [
    "# Data Series\n",
    "data_series.min()"
   ],
   "outputs": [
    {
     "data": {
      "text/plain": [
       "220"
      ]
     },
     "execution_count": 11,
     "metadata": {},
     "output_type": "execute_result"
    }
   ],
   "execution_count": 11
  },
  {
   "metadata": {},
   "cell_type": "markdown",
   "source": "As illustrated by the `max()` method, you can do things with a `DataFrame` or `Series`. pandas provides a lot of functionalities, each of them a method you can apply to a `DataFrame` or `Series`. As methods are functions like as `sum()`, `min()`, `max()`, `mean()`, `len()`, etc., do not forget to use parentheses `()`."
  },
  {
   "metadata": {
    "ExecuteTime": {
     "end_time": "2024-07-27T18:48:26.480734Z",
     "start_time": "2024-07-27T18:48:26.476556Z"
    }
   },
   "cell_type": "code",
   "source": [
    "# Data Frame\n",
    "f\"Suma column Product Data Series: {df['Product'].sum()}\""
   ],
   "outputs": [
    {
     "data": {
      "text/plain": [
       "'Suma column Product Data Series: 125'"
      ]
     },
     "execution_count": 27,
     "metadata": {},
     "output_type": "execute_result"
    }
   ],
   "execution_count": 27
  },
  {
   "metadata": {
    "ExecuteTime": {
     "end_time": "2024-07-27T18:47:14.418419Z",
     "start_time": "2024-07-27T18:47:14.388760Z"
    }
   },
   "cell_type": "code",
   "source": [
    "# Data Series\n",
    "f\"Suma column Product Data Series: {data_series.sum()}\""
   ],
   "outputs": [
    {
     "data": {
      "text/plain": [
       "' Suma column Product Data Series: 2320'"
      ]
     },
     "execution_count": 25,
     "metadata": {},
     "output_type": "execute_result"
    }
   ],
   "execution_count": 25
  },
  {
   "metadata": {
    "ExecuteTime": {
     "end_time": "2024-07-27T18:39:40.459756Z",
     "start_time": "2024-07-27T18:39:40.453095Z"
    }
   },
   "cell_type": "code",
   "source": [
    "# Average for Data Series\n",
    "f\"Average: {data_series.sum()/len(data_series):.2f}\""
   ],
   "outputs": [
    {
     "data": {
      "text/plain": [
       "'Average: 386.67'"
      ]
     },
     "execution_count": 16,
     "metadata": {},
     "output_type": "execute_result"
    }
   ],
   "execution_count": 16
  },
  {
   "metadata": {
    "ExecuteTime": {
     "end_time": "2024-07-27T18:43:00.050484Z",
     "start_time": "2024-07-27T18:43:00.045559Z"
    }
   },
   "cell_type": "code",
   "source": "data_series.head()",
   "outputs": [
    {
     "data": {
      "text/plain": [
       "0    220\n",
       "1    350\n",
       "2    580\n",
       "3    310\n",
       "4    610\n",
       "Name: Total, dtype: int64"
      ]
     },
     "execution_count": 17,
     "metadata": {},
     "output_type": "execute_result"
    }
   ],
   "execution_count": 17
  },
  {
   "metadata": {
    "ExecuteTime": {
     "end_time": "2024-07-27T18:44:42.874623Z",
     "start_time": "2024-07-27T18:44:42.852475Z"
    }
   },
   "cell_type": "code",
   "source": "data_series.tail()",
   "outputs": [
    {
     "data": {
      "text/plain": [
       "1    350\n",
       "2    580\n",
       "3    310\n",
       "4    610\n",
       "5    250\n",
       "Name: Total, dtype: int64"
      ]
     },
     "execution_count": 22,
     "metadata": {},
     "output_type": "execute_result"
    }
   ],
   "execution_count": 22
  },
  {
   "metadata": {
    "ExecuteTime": {
     "end_time": "2024-07-27T18:45:01.921084Z",
     "start_time": "2024-07-27T18:45:01.914597Z"
    }
   },
   "cell_type": "code",
   "source": "data_series.sample()",
   "outputs": [
    {
     "data": {
      "text/plain": [
       "2    580\n",
       "Name: Total, dtype: int64"
      ]
     },
     "execution_count": 24,
     "metadata": {},
     "output_type": "execute_result"
    }
   ],
   "execution_count": 24
  },
  {
   "metadata": {
    "ExecuteTime": {
     "end_time": "2024-07-27T18:44:09.326461Z",
     "start_time": "2024-07-27T18:44:09.317836Z"
    }
   },
   "cell_type": "code",
   "source": "round(data_series.head(6).mean(), 2)",
   "outputs": [
    {
     "data": {
      "text/plain": [
       "386.67"
      ]
     },
     "execution_count": 21,
     "metadata": {},
     "output_type": "execute_result"
    }
   ],
   "execution_count": 21
  },
  {
   "metadata": {},
   "cell_type": "markdown",
   "source": [
    "Statistics method describe() of the numerical data. \n",
    "This function provides a statistical summary for numerical columns by default and can also provide summaries for categorical data when specified."
   ]
  },
  {
   "metadata": {
    "ExecuteTime": {
     "end_time": "2024-07-27T18:53:38.150125Z",
     "start_time": "2024-07-27T18:53:38.137519Z"
    }
   },
   "cell_type": "code",
   "source": [
    "# DataFrame.describe(percentiles=None, include=None, exclude=None, datetime_is_numeric=False)\n",
    "data_series.describe()"
   ],
   "outputs": [
    {
     "data": {
      "text/plain": [
       "count      6.000000\n",
       "mean     386.666667\n",
       "std      167.888852\n",
       "min      220.000000\n",
       "25%      265.000000\n",
       "50%      330.000000\n",
       "75%      522.500000\n",
       "max      610.000000\n",
       "Name: Total, dtype: float64"
      ]
     },
     "execution_count": 29,
     "metadata": {},
     "output_type": "execute_result"
    }
   ],
   "execution_count": 29
  },
  {
   "metadata": {},
   "cell_type": "markdown",
   "source": [
    "Parameters\n",
    "\n",
    "    percentiles: list-like, optional\n",
    "        The percentiles to include in the output. All should be between 0 and 1. By default, it includes [0.25, 0.5, 0.75], which correspond to the 25th, 50th (median), and 75th percentiles.\n",
    "    include: 'all', list-like of dtypes or None (default)\n",
    "        Specify the data types to include in the summary. For example, to include all data types, use 'all'. To include only specific types, pass a list like [np.number] for numeric types.\n",
    "    exclude: list-like of dtypes or None (default)\n",
    "        Specify the data types to exclude from the summary.\n",
    "    datetime_is_numeric: bool, default False\n",
    "        If True, treats datetime columns as numeric, resulting in the mean, min, and max being included in the summary.\n",
    "\n",
    "Returns\n",
    "\n",
    "    DataFrame: Summary statistics of the DataFrame provided.\n",
    "\n",
    "Statistical Measures Provided\n",
    "\n",
    "For numerical columns, describe typically returns the following measures:\n",
    "\n",
    "    count: The number of non-null entries.\n",
    "    mean: The average of the entries.\n",
    "    std: The standard deviation of the entries.\n",
    "    min: The minimum value.\n",
    "    25%: The 25th percentile (first quartile).\n",
    "    50%: The 50th percentile (median or second quartile).\n",
    "    75%: The 75th percentile (third quartile).\n",
    "    max: The maximum value.\n",
    "\n",
    "For categorical columns, if included, describe returns:\n",
    "\n",
    "    count: The number of non-null entries.\n",
    "    unique: The number of unique values.\n",
    "    top: The most frequent value.\n",
    "    freq: The frequency of the most frequent value.\n",
    "    \n",
    "The describe function in pandas is a powerful tool for search outliers if age 1 or 1500 in your data. It provides essential statistics that help you understand the distribution and central tendencies of your dataset, making it an excellent first step in data analysis."
   ]
  },
  {
   "metadata": {
    "ExecuteTime": {
     "end_time": "2024-07-27T18:55:03.616453Z",
     "start_time": "2024-07-27T18:55:03.590453Z"
    }
   },
   "cell_type": "code",
   "source": [
    "data = {\n",
    "    'age': [25, 30, 35, 40, 45, 50],\n",
    "    'salary': [50000, 60000, 70000, 80000, 90000, 100000],\n",
    "    'department': ['HR', 'IT', 'Finance', 'HR', 'IT', 'Finance']\n",
    "}\n",
    "\n",
    "df = pd.DataFrame(data)\n",
    "\n",
    "# Get the summary statistics for numerical columns\n",
    "summary_numerical = df.describe()\n",
    "print(\"Numerical summary:\")\n",
    "print(summary_numerical)\n",
    "\n",
    "# Get the summary statistics for all columns, including categorical\n",
    "summary_all = df.describe(include='all')\n",
    "print(\"\\nSummary including categorical data:\")\n",
    "print(summary_all)"
   ],
   "outputs": [
    {
     "name": "stdout",
     "output_type": "stream",
     "text": [
      "Numerical summary:\n",
      "             age         salary\n",
      "count   6.000000       6.000000\n",
      "mean   37.500000   75000.000000\n",
      "std     9.354143   18708.286934\n",
      "min    25.000000   50000.000000\n",
      "25%    31.250000   62500.000000\n",
      "50%    37.500000   75000.000000\n",
      "75%    43.750000   87500.000000\n",
      "max    50.000000  100000.000000\n",
      "\n",
      "Summary including categorical data:\n",
      "              age         salary department\n",
      "count    6.000000       6.000000          6\n",
      "unique        NaN            NaN          3\n",
      "top           NaN            NaN         HR\n",
      "freq          NaN            NaN          2\n",
      "mean    37.500000   75000.000000        NaN\n",
      "std      9.354143   18708.286934        NaN\n",
      "min     25.000000   50000.000000        NaN\n",
      "25%     31.250000   62500.000000        NaN\n",
      "50%     37.500000   75000.000000        NaN\n",
      "75%     43.750000   87500.000000        NaN\n",
      "max     50.000000  100000.000000        NaN\n"
     ]
    }
   ],
   "execution_count": 30
  },
  {
   "metadata": {},
   "cell_type": "markdown",
   "source": ""
  },
  {
   "metadata": {},
   "cell_type": "markdown",
   "source": ""
  },
  {
   "metadata": {},
   "cell_type": "code",
   "outputs": [],
   "execution_count": null,
   "source": ""
  }
 ],
 "metadata": {
  "colab": {
   "provenance": []
  },
  "kernelspec": {
   "display_name": "Python 3 (ipykernel)",
   "language": "python",
   "name": "python3"
  },
  "language_info": {
   "codemirror_mode": {
    "name": "ipython",
    "version": 3
   },
   "file_extension": ".py",
   "mimetype": "text/x-python",
   "name": "python",
   "nbconvert_exporter": "python",
   "pygments_lexer": "ipython3",
   "version": "3.11.7"
  }
 },
 "nbformat": 4,
 "nbformat_minor": 4
}
